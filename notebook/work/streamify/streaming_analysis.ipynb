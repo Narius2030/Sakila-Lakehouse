{
 "cells": [
  {
   "cell_type": "code",
   "execution_count": 17,
   "id": "ec627579-ff2e-498e-acb8-dd5610d2b7f7",
   "metadata": {},
   "outputs": [],
   "source": [
    "import sys\n",
    "sys.path.append(\"./work\")\n",
    "\n",
    "from pyspark.sql import SparkSession"
   ]
  },
  {
   "cell_type": "code",
   "execution_count": 27,
   "id": "d8c7edb0-7c4a-498f-8841-91224dd28fc7",
   "metadata": {},
   "outputs": [],
   "source": [
    "spark = SparkSession.builder \\\n",
    "                    .appName(\"Spark Streaming\") \\\n",
    "                    .master('spark://spark-master:7077') \\\n",
    "                    .config(\"spark.executor.memory\", \"1g\") \\\n",
    "                    .config(\"spark.sql.shuffle.partitions\", \"100\") \\\n",
    "                    .config(\"hive.metastore.uris\", \"thrift://hive-metastore:9083\") \\\n",
    "                    .config('spark.hadoop.fs.s3a.aws.credentials.provider', 'org.apache.hadoop.fs.s3a.SimpleAWSCredentialsProvider') \\\n",
    "                    .config('spark.sql.warehouse.dir', f's3a://lakehouse/') \\\n",
    "                    .config('spark.jars.packages', 'org.apache.spark:spark-sql-kafka-0-10_2.12:3.2.0') \\\n",
    "                    .enableHiveSupport() \\\n",
    "                    .getOrCreate()"
   ]
  },
  {
   "cell_type": "code",
   "execution_count": 21,
   "id": "dfe4e862-7d25-4ea4-a2d3-318a913438ae",
   "metadata": {},
   "outputs": [
    {
     "data": {
      "text/html": [
       "\n",
       "            <div>\n",
       "                <p><b>SparkSession - hive</b></p>\n",
       "                \n",
       "        <div>\n",
       "            <p><b>SparkContext</b></p>\n",
       "\n",
       "            <p><a href=\"http://f96e811bbabb:4040\">Spark UI</a></p>\n",
       "\n",
       "            <dl>\n",
       "              <dt>Version</dt>\n",
       "                <dd><code>v3.3.2</code></dd>\n",
       "              <dt>Master</dt>\n",
       "                <dd><code>spark://spark-master:7077</code></dd>\n",
       "              <dt>AppName</dt>\n",
       "                <dd><code>Spark Streaming</code></dd>\n",
       "            </dl>\n",
       "        </div>\n",
       "        \n",
       "            </div>\n",
       "        "
      ],
      "text/plain": [
       "<pyspark.sql.session.SparkSession at 0x7ff973e96520>"
      ]
     },
     "execution_count": 21,
     "metadata": {},
     "output_type": "execute_result"
    }
   ],
   "source": [
    "spark"
   ]
  },
  {
   "cell_type": "code",
   "execution_count": 30,
   "id": "492f2947-25c6-4801-9093-5dff03ccd8aa",
   "metadata": {},
   "outputs": [
    {
     "name": "stdout",
     "output_type": "stream",
     "text": [
      "+---------------+------------------+----------------+\n",
      "|pickup_location| avg_trip_distance|avg_total_amount|\n",
      "+---------------+------------------+----------------+\n",
      "|            113|3.5520000000000005|          20.296|\n",
      "+---------------+------------------+----------------+\n",
      "\n"
     ]
    }
   ],
   "source": [
    "delta_df = spark.read.format(\"delta\").load(\"s3a://lakehouse/streaming/test/taxi_trends\")\n",
    "delta_df.where(delta_df.pickup_location==113).show()"
   ]
  },
  {
   "cell_type": "code",
   "execution_count": 31,
   "id": "efbfe60e-e60e-4b68-af8a-770635e87359",
   "metadata": {},
   "outputs": [],
   "source": [
    "spark.stop()"
   ]
  }
 ],
 "metadata": {
  "kernelspec": {
   "display_name": "Python 3 (ipykernel)",
   "language": "python",
   "name": "python3"
  },
  "language_info": {
   "codemirror_mode": {
    "name": "ipython",
    "version": 3
   },
   "file_extension": ".py",
   "mimetype": "text/x-python",
   "name": "python",
   "nbconvert_exporter": "python",
   "pygments_lexer": "ipython3",
   "version": "3.9.13"
  }
 },
 "nbformat": 4,
 "nbformat_minor": 5
}
