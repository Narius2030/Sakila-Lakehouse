{
 "cells": [
  {
   "cell_type": "code",
   "execution_count": 2,
   "id": "ec627579-ff2e-498e-acb8-dd5610d2b7f7",
   "metadata": {},
   "outputs": [],
   "source": [
    "import sys\n",
    "sys.path.append(\"./work/streamify\")\n",
    "\n",
    "from operators.streaming import SparkStreaming\n",
    "import pyspark.sql.functions as F"
   ]
  },
  {
   "cell_type": "code",
   "execution_count": 3,
   "id": "d8c7edb0-7c4a-498f-8841-91224dd28fc7",
   "metadata": {},
   "outputs": [],
   "source": [
    "spark = SparkStreaming.get_instance(app_name=\"Streamify Spark Streaming\")"
   ]
  },
  {
   "cell_type": "code",
   "execution_count": 21,
   "id": "dfe4e862-7d25-4ea4-a2d3-318a913438ae",
   "metadata": {},
   "outputs": [
    {
     "data": {
      "text/html": [
       "\n",
       "            <div>\n",
       "                <p><b>SparkSession - hive</b></p>\n",
       "                \n",
       "        <div>\n",
       "            <p><b>SparkContext</b></p>\n",
       "\n",
       "            <p><a href=\"http://f96e811bbabb:4040\">Spark UI</a></p>\n",
       "\n",
       "            <dl>\n",
       "              <dt>Version</dt>\n",
       "                <dd><code>v3.3.2</code></dd>\n",
       "              <dt>Master</dt>\n",
       "                <dd><code>spark://spark-master:7077</code></dd>\n",
       "              <dt>AppName</dt>\n",
       "                <dd><code>Spark Streaming</code></dd>\n",
       "            </dl>\n",
       "        </div>\n",
       "        \n",
       "            </div>\n",
       "        "
      ],
      "text/plain": [
       "<pyspark.sql.session.SparkSession at 0x7ff973e96520>"
      ]
     },
     "execution_count": 21,
     "metadata": {},
     "output_type": "execute_result"
    }
   ],
   "source": [
    "spark"
   ]
  },
  {
   "cell_type": "code",
   "execution_count": 6,
   "id": "492f2947-25c6-4801-9093-5dff03ccd8aa",
   "metadata": {},
   "outputs": [
    {
     "name": "stdout",
     "output_type": "stream",
     "text": [
      "28\n",
      "root\n",
      " |-- rental_id: integer (nullable = true)\n",
      " |-- rental_date: string (nullable = true)\n",
      " |-- inventory_id: integer (nullable = true)\n",
      " |-- customer_id: integer (nullable = true)\n",
      " |-- return_date: string (nullable = true)\n",
      " |-- staff_id: integer (nullable = true)\n",
      " |-- last_update: string (nullable = true)\n",
      "\n"
     ]
    }
   ],
   "source": [
    "delta_df = spark.read.format(\"delta\").load(\"s3a://lakehouse/streaming/streamify/rental\")\n",
    "print(delta_df.count())\n",
    "delta_df.printSchema()"
   ]
  },
  {
   "cell_type": "code",
   "execution_count": 5,
   "id": "dcc38065-0bee-4e96-b68e-4239d1d9393f",
   "metadata": {},
   "outputs": [
    {
     "name": "stdout",
     "output_type": "stream",
     "text": [
      "+---------+-------------------+------------+-----------+-------------------+--------+-------------------+\n",
      "|rental_id|        rental_date|inventory_id|customer_id|        return_date|staff_id|        last_update|\n",
      "+---------+-------------------+------------+-----------+-------------------+--------+-------------------+\n",
      "|   281488|2010-01-02 13:17:17|        1882|        114|2010-01-04 12:11:04|     124|2010-01-01 19:22:41|\n",
      "|   281493|2010-01-03 00:13:16|        2080|        529|2010-01-05 21:48:32|      76|2010-01-02 01:30:56|\n",
      "|   281502|2010-01-03 10:45:13|        2517|        599|2010-01-05 10:08:02|       3|2010-01-02 10:00:52|\n",
      "|   281476|2010-01-01 07:47:23|        3430|        167|2010-01-03 04:21:21|     122|2010-01-01 04:05:03|\n",
      "|   281477|2010-01-01 09:15:59|        1161|        446|2010-01-05 07:47:23|       1|2010-01-01 05:08:26|\n",
      "+---------+-------------------+------------+-----------+-------------------+--------+-------------------+\n",
      "only showing top 5 rows\n",
      "\n"
     ]
    }
   ],
   "source": [
    "delta_df.show(5)"
   ]
  },
  {
   "cell_type": "code",
   "execution_count": 6,
   "id": "f0232bc2-27e6-4b19-a750-e7034d52dd58",
   "metadata": {},
   "outputs": [],
   "source": [
    "customer_df = spark.read.csv(\"s3a://lakehouse/csv/customer.csv\", header=True, inferSchema=True, samplingRatio=0.1)\n",
    "address_df = spark.read.csv(\"s3a://lakehouse/csv/address.csv\", header=True, inferSchema=True, samplingRatio=0.1)\n",
    "city_df = spark.read.csv(\"s3a://lakehouse/csv/city.csv\", header=True, inferSchema=True, samplingRatio=0.1)\n",
    "country_df = spark.read.csv(\"s3a://lakehouse/csv/country.csv\", header=True, inferSchema=True, samplingRatio=0.1)"
   ]
  },
  {
   "cell_type": "code",
   "execution_count": 10,
   "id": "ddfaa601-f1b1-427e-99d7-6236160bd525",
   "metadata": {},
   "outputs": [
    {
     "name": "stdout",
     "output_type": "stream",
     "text": [
      "++\n",
      "||\n",
      "++\n",
      "++\n",
      "\n"
     ]
    }
   ],
   "source": [
    "spark.sql(\"CREATE DATABASE streamify\").show()"
   ]
  },
  {
   "cell_type": "code",
   "execution_count": 11,
   "id": "fae844e3-27e5-4c47-a123-9b885f71b267",
   "metadata": {},
   "outputs": [],
   "source": [
    "customer_df.write.format(\"delta\").mode(\"overwrite\").saveAsTable(\"streamify.customer\")\n",
    "address_df.write.format(\"delta\").mode(\"overwrite\").saveAsTable(\"streamify.address\")\n",
    "city_df.write.format(\"delta\").mode(\"overwrite\").saveAsTable(\"streamify.city\")\n",
    "country_df.write.format(\"delta\").mode(\"overwrite\").saveAsTable(\"streamify.country\")"
   ]
  },
  {
   "cell_type": "code",
   "execution_count": 14,
   "id": "a4c0bec9-a4cb-4565-b101-f80c295d9da2",
   "metadata": {},
   "outputs": [
    {
     "name": "stdout",
     "output_type": "stream",
     "text": [
      "+---------+---------+-----------+\n",
      "|namespace|tableName|isTemporary|\n",
      "+---------+---------+-----------+\n",
      "|streamify|  address|      false|\n",
      "|streamify|     city|      false|\n",
      "|streamify|  country|      false|\n",
      "|streamify| customer|      false|\n",
      "+---------+---------+-----------+\n",
      "\n"
     ]
    }
   ],
   "source": [
    "spark.sql(\"SHOW TABLES\").show()"
   ]
  },
  {
   "cell_type": "code",
   "execution_count": 17,
   "id": "efbfe60e-e60e-4b68-af8a-770635e87359",
   "metadata": {},
   "outputs": [],
   "source": [
    "spark.stop()"
   ]
  }
 ],
 "metadata": {
  "kernelspec": {
   "display_name": "Python 3 (ipykernel)",
   "language": "python",
   "name": "python3"
  },
  "language_info": {
   "codemirror_mode": {
    "name": "ipython",
    "version": 3
   },
   "file_extension": ".py",
   "mimetype": "text/x-python",
   "name": "python",
   "nbconvert_exporter": "python",
   "pygments_lexer": "ipython3",
   "version": "3.9.13"
  }
 },
 "nbformat": 4,
 "nbformat_minor": 5
}
